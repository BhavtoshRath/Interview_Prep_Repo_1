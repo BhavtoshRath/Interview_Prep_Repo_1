{
 "cells": [
  {
   "cell_type": "markdown",
   "metadata": {},
   "source": [
    "### **1. Understanding & Modifying Existing TensorFlow Code**  \n",
    "*These questions test how well you can read, modify, and improve existing ML models.*\n",
    "\n",
    "**Q1: Identify issues in the given TensorFlow model**  \n",
    "_You are given a simple MLP model for binary classification in TensorFlow. Can you spot and fix any issues?_ \n",
    "\n",
    "```python\n",
    "import tensorflow as tf\n",
    "from tensorflow import keras\n",
    "from tensorflow.keras import layers\n",
    "\n",
    "model = keras.Sequential([\n",
    "    layers.Dense(64, activation='relu'),\n",
    "    layers.Dense(32, activation='relu'),\n",
    "    layers.Dense(1, activation='sigmoid')\n",
    "])\n",
    "\n",
    "model.compile(optimizer='adam', loss='mse', metrics=['accuracy'])\n",
    "```"
   ]
  },
  {
   "cell_type": "markdown",
   "metadata": {},
   "source": [
    "- **How would you fix the loss function issue?**   \n",
    "'mse' is used for linear regression tasks. 'Sigmoid' is usually used for binary classification, so correct loss function is binary_crossentropy\n",
    "- **What happens if we don’t specify an `input_shape` in the first layer?**  \n",
    "`Deferred execution` or `lazy building`. The model will dynamically infer the input shape from the data provided during training or inference."
   ]
  },
  {
   "cell_type": "code",
   "execution_count": 5,
   "metadata": {
    "scrolled": true
   },
   "outputs": [
    {
     "name": "stderr",
     "output_type": "stream",
     "text": [
      "/Users/bhavtosh/env1/lib/python3.9/site-packages/keras/src/layers/core/dense.py:87: UserWarning: Do not pass an `input_shape`/`input_dim` argument to a layer. When using Sequential models, prefer using an `Input(shape)` object as the first layer in the model instead.\n",
      "  super().__init__(activity_regularizer=activity_regularizer, **kwargs)\n"
     ]
    }
   ],
   "source": [
    "# Corrected code\n",
    "\n",
    "import tensorflow\n",
    "from tensorflow import keras\n",
    "from tensorflow.keras import layers\n",
    "\n",
    "model = keras.Sequential([\n",
    "    layers.Dense(64, activation='relu', input_shape=(12,)), # Specify input shape\n",
    "    layers.Dense(32, activation='relu'),\n",
    "    layers.Dense(1, activation='sigmoid'),\n",
    "])\n",
    "\n",
    "model.compile(optimizer='adam', loss='binary_crossentropy', metrics=['accuracy'])"
   ]
  },
  {
   "cell_type": "markdown",
   "metadata": {},
   "source": [
    "---\n",
    "\n",
    "### **2. Debugging ML Code Using Documentation & Error Analysis** \n",
    "\n",
    "**Q2: Debugging a Training Pipeline**  \n",
    "_You run the following training code and get an error. How would you debug it?_  \n",
    "```python\n",
    "model.fit(X_train, y_train, epochs=10, batch_size=32, validation_split=0.2)\n",
    "```\n",
    "Error message:  \n",
    "```\n",
    "ValueError: Failed to convert a NumPy array to a Tensor (Unsupported object type int).\n",
    "```"
   ]
  },
  {
   "cell_type": "markdown",
   "metadata": {},
   "source": [
    "1. datatype of X_train/ y_train (high-level information): type(X_train), type(y_train) - Check if they are numpy arrays/ tensors. \n",
    "2. dtype (precision/storage type of numbers whether float32, int64): X_train.dtype, y_train.dtype - Check if they contan any strings\n"
   ]
  },
  {
   "cell_type": "code",
   "execution_count": null,
   "metadata": {},
   "outputs": [],
   "source": [
    "\n",
    " \n",
    "  \n",
    "\n",
    "\n",
    "**Follow-up:**  \n",
    "- What is causing this error?  \n",
    "- How would you fix it?  \n",
    "- How does TensorFlow handle data type conversions?  \n",
    "\n",
    "---\n",
    "\n",
    "### **3. Evaluating ML Model Performance**  \n",
    "*These questions test your knowledge of model evaluation beyond just accuracy.*  \n",
    "\n",
    "**Q3: How would you evaluate a ranking model for Etsy Ads?**  \n",
    "- What metrics would you use? (e.g., NDCG, Precision@K, CTR)  \n",
    "- How would you handle class imbalance in evaluation?  \n",
    "- How do you know if a model is overfitting?  \n",
    "\n",
    "**Q4: You trained a TensorFlow model, and its accuracy is high, but the business metric (e.g., conversions) is low. What could be wrong?**  \n",
    "- How would you debug this issue?  \n",
    "- What additional evaluation strategies would you use?  \n",
    "\n",
    "---\n",
    "\n",
    "### **4. Scalability & Performance Considerations**  \n",
    "*These questions assess your ability to scale ML models in production.*  \n",
    "\n",
    "**Q5: Your TensorFlow model is slow during inference. How do you optimize it?**  \n",
    "- How would you reduce latency in model serving?  \n",
    "- What techniques can be used to optimize TensorFlow models for speed? (e.g., quantization, TensorRT, batching)  \n",
    "\n",
    "**Q6: How would you scale a recommendation system for millions of Etsy users and items?**  \n",
    "- Would you precompute embeddings or compute them in real-time?  \n",
    "- How would you store and retrieve features efficiently?  \n",
    "\n",
    "---\n",
    "\n",
    "### **5. Handling Edge Cases & Model Robustness**  \n",
    "*These questions test your ability to make ML models more reliable in real-world scenarios.*  \n",
    "\n",
    "**Q7: Your ad ranking model gives high scores to irrelevant ads. What could be going wrong?**  \n",
    "- How would you debug feature importance?  \n",
    "- Would you adjust the loss function or introduce new features?  \n",
    "\n",
    "**Q8: Your ML model performs well on training data but poorly on new listings (cold start problem). How do you handle this?**  \n",
    "- What strategies would you use to rank new Etsy listings fairly?  \n",
    "- Would you use zero-shot learning, transfer learning, or heuristics?  \n",
    "\n",
    "---\n",
    "\n",
    "### **6. Working with TensorFlow and ML Libraries**  \n",
    "*These questions focus on practical knowledge of TensorFlow and related ML tools.*  \n",
    "\n",
    "**Q9: What are the differences between `tf.data.Dataset` and using NumPy arrays for feeding data into TensorFlow models?**  \n",
    "- When would you use `tf.data.Dataset`?  \n",
    "- How can you optimize dataset loading for large-scale training?  \n",
    "\n",
    "**Q10: Your training loss is NaN in TensorFlow. How do you debug it?**  \n",
    "- What could be the possible causes? (e.g., exploding gradients, bad data)  \n",
    "- How would you use TensorFlow debugging tools (`tf.debugging`) to investigate?  \n",
    "\n",
    "---\n",
    "\n",
    "### **How to Prepare?**  \n",
    "- **Practice reading & modifying existing TensorFlow code**  \n",
    "- **Review error messages and learn debugging techniques**  \n",
    "- **Study real-world ML evaluation metrics (beyond accuracy)**  \n",
    "- **Understand scalability techniques (TF Serving, feature storage, model optimization)**  \n",
    "- **Be ready to discuss edge cases and practical trade-offs in ML models**  \n",
    "\n",
    "Would you like a hands-on example where I provide buggy TensorFlow code for you to debug? 🚀"
   ]
  }
 ],
 "metadata": {
  "kernelspec": {
   "display_name": "env1",
   "language": "python",
   "name": "env1"
  },
  "language_info": {
   "codemirror_mode": {
    "name": "ipython",
    "version": 3
   },
   "file_extension": ".py",
   "mimetype": "text/x-python",
   "name": "python",
   "nbconvert_exporter": "python",
   "pygments_lexer": "ipython3",
   "version": "3.9.21"
  }
 },
 "nbformat": 4,
 "nbformat_minor": 4
}
